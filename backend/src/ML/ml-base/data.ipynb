{
 "cells": [
  {
   "cell_type": "code",
   "execution_count": 1,
   "id": "d9a4f535-0b22-437a-904d-91ac5cd504a0",
   "metadata": {
    "execution": {
     "iopub.execute_input": "2025-10-01T11:50:03.686516Z",
     "iopub.status.busy": "2025-10-01T11:50:03.686157Z",
     "iopub.status.idle": "2025-10-01T11:50:08.275526Z",
     "shell.execute_reply": "2025-10-01T11:50:08.274800Z",
     "shell.execute_reply.started": "2025-10-01T11:50:03.686489Z"
    },
    "tags": []
   },
   "outputs": [
    {
     "name": "stdout",
     "output_type": "stream",
     "text": [
      "Defaulting to user installation because normal site-packages is not writeable\n",
      "Requirement already satisfied: roboflow in /home/jupyter/.local/lib/python3.10/site-packages (1.2.9)\n",
      "Requirement already satisfied: certifi in /usr/local/lib/python3.10/dist-packages (from roboflow) (2023.7.22)\n",
      "Requirement already satisfied: idna==3.7 in /home/jupyter/.local/lib/python3.10/site-packages (from roboflow) (3.7)\n",
      "Requirement already satisfied: cycler in /usr/local/lib/python3.10/dist-packages (from roboflow) (0.11.0)\n",
      "Requirement already satisfied: kiwisolver>=1.3.1 in /usr/local/lib/python3.10/dist-packages (from roboflow) (1.4.4)\n",
      "Requirement already satisfied: matplotlib in /usr/local/lib/python3.10/dist-packages (from roboflow) (3.7.1)\n",
      "Requirement already satisfied: numpy>=1.18.5 in /home/jupyter/.local/lib/python3.10/site-packages (from roboflow) (1.26.4)\n",
      "Requirement already satisfied: opencv-python-headless==4.10.0.84 in /home/jupyter/.local/lib/python3.10/site-packages (from roboflow) (4.10.0.84)\n",
      "Requirement already satisfied: Pillow>=7.1.2 in /home/jupyter/.local/lib/python3.10/site-packages (from roboflow) (11.3.0)\n",
      "Requirement already satisfied: pi-heif<2 in /home/jupyter/.local/lib/python3.10/site-packages (from roboflow) (1.1.0)\n",
      "Requirement already satisfied: pillow-avif-plugin<2 in /home/jupyter/.local/lib/python3.10/site-packages (from roboflow) (1.5.2)\n",
      "Requirement already satisfied: python-dateutil in /usr/local/lib/python3.10/dist-packages (from roboflow) (2.8.2)\n",
      "Requirement already satisfied: python-dotenv in /home/jupyter/.local/lib/python3.10/site-packages (from roboflow) (1.1.1)\n",
      "Requirement already satisfied: requests in /usr/local/lib/python3.10/dist-packages (from roboflow) (2.27.1)\n",
      "Requirement already satisfied: six in /usr/lib/python3/dist-packages (from roboflow) (1.16.0)\n",
      "Requirement already satisfied: urllib3>=1.26.6 in /usr/local/lib/python3.10/dist-packages (from roboflow) (1.26.16)\n",
      "Requirement already satisfied: tqdm>=4.41.0 in /usr/local/lib/python3.10/dist-packages (from roboflow) (4.65.0)\n",
      "Requirement already satisfied: PyYAML>=5.3.1 in /usr/local/lib/python3.10/dist-packages (from roboflow) (6.0.1)\n",
      "Requirement already satisfied: requests-toolbelt in /home/jupyter/.local/lib/python3.10/site-packages (from roboflow) (1.0.0)\n",
      "Requirement already satisfied: filetype in /home/jupyter/.local/lib/python3.10/site-packages (from roboflow) (1.2.0)\n",
      "Requirement already satisfied: contourpy>=1.0.1 in /usr/local/lib/python3.10/dist-packages (from matplotlib->roboflow) (1.1.0)\n",
      "Requirement already satisfied: fonttools>=4.22.0 in /usr/local/lib/python3.10/dist-packages (from matplotlib->roboflow) (4.41.1)\n",
      "Requirement already satisfied: packaging>=20.0 in /usr/local/lib/python3.10/dist-packages (from matplotlib->roboflow) (23.1)\n",
      "Requirement already satisfied: pyparsing>=2.3.1 in /usr/local/lib/python3.10/dist-packages (from matplotlib->roboflow) (3.1.0)\n",
      "Requirement already satisfied: charset-normalizer~=2.0.0 in /usr/local/lib/python3.10/dist-packages (from requests->roboflow) (2.0.12)\n",
      "\n",
      "\u001b[1m[\u001b[0m\u001b[34;49mnotice\u001b[0m\u001b[1;39;49m]\u001b[0m\u001b[39;49m A new release of pip is available: \u001b[0m\u001b[31;49m23.0.1\u001b[0m\u001b[39;49m -> \u001b[0m\u001b[32;49m25.2\u001b[0m\n",
      "\u001b[1m[\u001b[0m\u001b[34;49mnotice\u001b[0m\u001b[1;39;49m]\u001b[0m\u001b[39;49m To update, run: \u001b[0m\u001b[32;49mpython3 -m pip install --upgrade pip\u001b[0m\n"
     ]
    }
   ],
   "source": [
    "%pip install roboflow"
   ]
  },
  {
   "cell_type": "code",
   "execution_count": 2,
   "id": "23045bc0-6508-4067-bb82-be4c374a3096",
   "metadata": {
    "execution": {
     "iopub.execute_input": "2025-10-01T11:50:27.138314Z",
     "iopub.status.busy": "2025-10-01T11:50:27.137876Z",
     "iopub.status.idle": "2025-10-01T11:55:50.848577Z",
     "shell.execute_reply": "2025-10-01T11:55:50.847276Z",
     "shell.execute_reply.started": "2025-10-01T11:50:27.138292Z"
    },
    "tags": []
   },
   "outputs": [
    {
     "name": "stdout",
     "output_type": "stream",
     "text": [
      "loading Roboflow workspace...\n",
      "loading Roboflow project...\n"
     ]
    },
    {
     "name": "stderr",
     "output_type": "stream",
     "text": [
      "Downloading Dataset Version Zip in ЛЦТ_seg-19 to yolov11:: 100%|██████████| 404826/404826 [00:15<00:00, 26425.31it/s]\n"
     ]
    },
    {
     "name": "stdout",
     "output_type": "stream",
     "text": [
      "\n"
     ]
    },
    {
     "name": "stderr",
     "output_type": "stream",
     "text": [
      "Extracting Dataset Version Zip to ЛЦТ_seg-19 in yolov11:: 100%|██████████| 15942/15942 [04:38<00:00, 57.19it/s] \n"
     ]
    }
   ],
   "source": [
    "from roboflow import Roboflow\n",
    "\n",
    "rf = Roboflow(api_key=\"xR2Y9RF65j4EqhMqb5QM\")\n",
    "project = rf.workspace(\"treyder38\").project(\"_seg-2li56\")\n",
    "version = project.version(19)\n",
    "dataset = version.download(\"yolov11\")"
   ]
  },
  {
   "cell_type": "code",
   "execution_count": 4,
   "id": "5632346f-cad4-419a-b1e4-1634d1157f7b",
   "metadata": {
    "execution": {
     "iopub.execute_input": "2025-10-01T11:59:30.880500Z",
     "iopub.status.busy": "2025-10-01T11:59:30.879153Z",
     "iopub.status.idle": "2025-10-01T12:00:59.557878Z",
     "shell.execute_reply": "2025-10-01T12:00:59.556955Z",
     "shell.execute_reply.started": "2025-10-01T11:59:30.880475Z"
    },
    "tags": []
   },
   "outputs": [
    {
     "name": "stdout",
     "output_type": "stream",
     "text": [
      "[OK] train: 7419 файлов → /home/jupyter/datasphere/project/ЛЦТ_seg-19/train/labels\n",
      "[OK] valid: 548 файлов → /home/jupyter/datasphere/project/ЛЦТ_seg-19/valid/labels\n"
     ]
    }
   ],
   "source": [
    "import os\n",
    "from pathlib import Path\n",
    "from typing import List, Tuple\n",
    "import math\n",
    "\n",
    "# ===== настройки =====\n",
    "DATASET_DIR = Path(\"/home/jupyter/datasphere/project/ЛЦТ_seg-19\")  # папка, где лежит data.yaml и каталоги train/valid/test\n",
    "SPLITS = [\"train\", \"valid\"]\n",
    "# =====================\n",
    "\n",
    "def read_seg_file(path: Path) -> List[Tuple[int, List[Tuple[float, float]]]]:\n",
    "    \"\"\"\n",
    "    Читает yolo-seg label-файл.\n",
    "    Возвращает список (cls, [(x,y), ...]) — одна запись на ОДИН сегмент.\n",
    "    \"\"\"\n",
    "    segs = []\n",
    "    if not path.exists():\n",
    "        return segs\n",
    "    with path.open(\"r\", encoding=\"utf-8\") as f:\n",
    "        for line in f:\n",
    "            line = line.strip()\n",
    "            if not line:\n",
    "                continue\n",
    "            parts = line.split()\n",
    "            try:\n",
    "                cls = int(float(parts[0]))\n",
    "            except ValueError:\n",
    "                # пропускаем битые строки\n",
    "                continue\n",
    "            nums = [float(x) for x in parts[1:]]\n",
    "            # берём попарно, игнорируя неполный хвост\n",
    "            pts = []\n",
    "            for i in range(0, len(nums) - 1, 2):\n",
    "                x, y = nums[i], nums[i + 1]\n",
    "                # защитимся от выхода за [0,1]\n",
    "                x = min(max(x, 0.0), 1.0)\n",
    "                y = min(max(y, 0.0), 1.0)\n",
    "                pts.append((x, y))\n",
    "            if len(pts) >= 3:  # минимум треугольник\n",
    "                segs.append((cls, pts))\n",
    "    return segs\n",
    "\n",
    "def seg_to_xyxy(pts: List[Tuple[float, float]]) -> Tuple[float, float, float, float]:\n",
    "    xs = [p[0] for p in pts]\n",
    "    ys = [p[1] for p in pts]\n",
    "    return min(xs), min(ys), max(xs), max(ys)\n",
    "\n",
    "def xyxy_to_xywhn(x1, y1, x2, y2):\n",
    "    w = max(0.0, x2 - x1)\n",
    "    h = max(0.0, y2 - y1)\n",
    "    cx = x1 + w / 2.0\n",
    "    cy = y1 + h / 2.0\n",
    "    return cx, cy, w, h\n",
    "\n",
    "def merge_boxes_xyxy(boxes):\n",
    "    # Всегда объединяем ВСЕ боксы класса в один охватывающий\n",
    "    if not boxes:\n",
    "        return []\n",
    "    x1 = min(b[0] for b in boxes)\n",
    "    y1 = min(b[1] for b in boxes)\n",
    "    x2 = max(b[2] for b in boxes)\n",
    "    y2 = max(b[3] for b in boxes)\n",
    "    # на всякий случай зажмём в [0,1]\n",
    "    x1 = max(0.0, min(1.0, x1))\n",
    "    y1 = max(0.0, min(1.0, y1))\n",
    "    x2 = max(0.0, min(1.0, x2))\n",
    "    y2 = max(0.0, min(1.0, y2))\n",
    "    return [(x1, y1, x2, y2)]\n",
    "\n",
    "def convert_split(split_dir: Path):\n",
    "    src_labels = split_dir / \"labels\"\n",
    "    out_labels = split_dir / \"labels\"\n",
    "    out_labels.mkdir(parents=True, exist_ok=True)\n",
    "\n",
    "    txts = sorted([p for p in src_labels.glob(\"*.txt\") if p.is_file()])\n",
    "    for lp in txts:\n",
    "        segs = read_seg_file(lp)\n",
    "        # группируем bbox'ы по классу\n",
    "        per_class = {}\n",
    "        for cls, pts in segs:\n",
    "            x1, y1, x2, y2 = seg_to_xyxy(pts)\n",
    "            # фильтр нулевых\n",
    "            if x2 <= x1 or y2 <= y1:\n",
    "                continue\n",
    "            per_class.setdefault(cls, []).append((x1, y1, x2, y2))\n",
    "\n",
    "        # сливаем разрозненные сегменты одного класса\n",
    "        final_boxes = []\n",
    "        for cls, boxes in per_class.items():\n",
    "            merged = merge_boxes_xyxy(boxes)\n",
    "            for (x1, y1, x2, y2) in merged:\n",
    "                cx, cy, w, h = xyxy_to_xywhn(x1, y1, x2, y2)\n",
    "                # защита от нулевого размера\n",
    "                if w <= 0 or h <= 0:\n",
    "                    continue\n",
    "                final_boxes.append((cls, cx, cy, w, h))\n",
    "\n",
    "        # пишем файл детекции\n",
    "        outp = out_labels / lp.name\n",
    "        with outp.open(\"w\", encoding=\"utf-8\") as f:\n",
    "            for cls, cx, cy, w, h in final_boxes:\n",
    "                f.write(f\"{cls} {cx:.6f} {cy:.6f} {w:.6f} {h:.6f}\\n\")\n",
    "\n",
    "    print(f\"[OK] {split_dir.name}: {len(txts)} файлов → {out_labels}\")\n",
    "\n",
    "def main():\n",
    "    for split in SPLITS:\n",
    "        d = DATASET_DIR / split\n",
    "        if d.exists():\n",
    "            convert_split(d)\n",
    "        else:\n",
    "            print(f\"[skip] нет директории: {d}\")\n",
    "\n",
    "if __name__ == \"__main__\":\n",
    "    main()"
   ]
  }
 ],
 "metadata": {
  "kernelspec": {
   "display_name": "DataSphere Kernel",
   "language": "python",
   "name": "python3"
  },
  "language_info": {
   "codemirror_mode": {
    "name": "ipython",
    "version": 3
   },
   "file_extension": ".py",
   "mimetype": "text/x-python",
   "name": "python",
   "nbconvert_exporter": "python",
   "pygments_lexer": "ipython3",
   "version": "3.10.12"
  }
 },
 "nbformat": 4,
 "nbformat_minor": 5
}
